{
 "cells": [
  {
   "cell_type": "code",
   "execution_count": null,
   "metadata": {},
   "outputs": [],
   "source": [
    "from selenium import webdriver\n",
    "from selenium.webdriver.common.keys import Keys\n",
    "import time\n",
    "options = webdriver.ChromeOptions()\n",
    "options.add_argument('--ignore-certificate-erros')\n",
    "options.add_argument('--incognito')\n",
    "options.add_argument('--headless')\n",
    "driver = webdriver.Chrome(\"chromedriver_win32\\chromedriver.exe\", options=options)\n",
    "driver.get(\"https://mookh.com/tickets\")\n",
    "index= 0\n",
    "while True:\n",
    "    index += 1\n",
    "    try:\n",
    "        more_button = driver.find_element_by_class_name(\"jss99\")\n",
    "    except Exception as exc:\n",
    "        break\n",
    "    if more_button.is_displayed():\n",
    "        driver.execute_script(\"arguments[0].click()\", more_button)\n",
    "\n",
    "page_source = driver.page_source\n",
    "\n",
    "from bs4 import BeautifulSoup\n",
    "\n",
    "soup =  BeautifulSoup(pagesource, 'lxml')\n"
   ]
  },
  {
   "cell_type": "code",
   "execution_count": null,
   "metadata": {},
   "outputs": [],
   "source": []
  }
 ],
 "metadata": {
  "kernelspec": {
   "display_name": "Python 3",
   "language": "python",
   "name": "python3"
  },
  "language_info": {
   "codemirror_mode": {
    "name": "ipython",
    "version": 3
   },
   "file_extension": ".py",
   "mimetype": "text/x-python",
   "name": "python",
   "nbconvert_exporter": "python",
   "pygments_lexer": "ipython3",
   "version": "3.7.3"
  }
 },
 "nbformat": 4,
 "nbformat_minor": 2
}
